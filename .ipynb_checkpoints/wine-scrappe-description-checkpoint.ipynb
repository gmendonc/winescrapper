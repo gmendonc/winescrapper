{
 "cells": [
  {
   "cell_type": "markdown",
   "metadata": {},
   "source": [
    "# Script para extrair detalhes das páginas de cada vinho\n"
   ]
  },
  {
   "cell_type": "code",
   "execution_count": null,
   "metadata": {},
   "outputs": [],
   "source": [
    "from bs4 import BeautifulSoup as bs\n",
    "import pandas as pd\n",
    "import requests\n",
    "import re\n",
    "import time"
   ]
  },
  {
   "cell_type": "code",
   "execution_count": null,
   "metadata": {},
   "outputs": [],
   "source": [
    "url_list = [\n",
    "    'https://www.wine.com.br/vinhos/fantinel-eclisse-la-roncaia-i-g-t-venezia-giulia-branco-2016/prod20164.html',\n",
    "    'https://www.wine.com.br/vinhos/ropiteau-freres-premier-cru-a-o-c-puligny-montrachet-sous-le-puits-blanc-2016/prod20281.html',\n",
    "    'https://www.wine.com.br/vinhos/pinhal-da-torre-late-harvest-tardio-2010-500-ml/prod21088.html',\n",
    "    'https://www.wine.com.br/vinhos/covela-edicao-nacional-d-o-c-vinho-verde-arinto-2017/prod24414.html',\n",
    "    'https://www.wine.com.br/vinhos/calyptra-gran-reserva-sauvignon-blanc-2015/prod21766.html'\n",
    "]\n",
    "\n",
    "HEADERS = {\n",
    "    'user-agent': ('Mozilla/5.0 (Windows NT 6.1; Win64; x64) AppleWebKit/537.36 '\n",
    "                   '(KHTML, like Gecko) Chrome/78.0.3904.87 Safari/537.36'),\n",
    "    'Connection':'close'\n",
    "}\n",
    "\n",
    "def get_soup(page_url, retry_count=0):\n",
    "    \n",
    "    session= requests.Session()\n",
    "    session.trust_env = False\n",
    "    \n",
    "    print(\"Iniciando session_get\")\n",
    "    \n",
    "    try:\n",
    "        response = session.get(page_url, headers=HEADERS)\n",
    "        print(\"\\nScraping page:\",page_url,\" = \", response)\n",
    "        soup = bs(response.content, 'html.parser')\n",
    "        return soup\n",
    "    except:\n",
    "        print(\"Get falhou\")\n",
    "        retry_count += 1\n",
    "        if retry_count <= 3:\n",
    "            print(\"retry get\")\n",
    "            session = requests.Session()\n",
    "            get_soup(page_url, retry_count)\n",
    "        else:\n",
    "            raise\n",
    "            \n",
    "for wine in url_list:\n",
    "    wine_soup= get_soup(wine)\n",
    "    \n",
    "    technical_description = "
   ]
  }
 ],
 "metadata": {
  "kernelspec": {
   "display_name": "Python 3",
   "language": "python",
   "name": "python3"
  },
  "language_info": {
   "codemirror_mode": {
    "name": "ipython",
    "version": 3
   },
   "file_extension": ".py",
   "mimetype": "text/x-python",
   "name": "python",
   "nbconvert_exporter": "python",
   "pygments_lexer": "ipython3",
   "version": "3.6.10"
  }
 },
 "nbformat": 4,
 "nbformat_minor": 4
}
